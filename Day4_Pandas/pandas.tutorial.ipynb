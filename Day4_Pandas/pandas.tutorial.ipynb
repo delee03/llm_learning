{
 "cells": [
  {
   "cell_type": "code",
   "id": "initial_id",
   "metadata": {
    "collapsed": true,
    "ExecuteTime": {
     "end_time": "2025-02-21T15:44:01.382204Z",
     "start_time": "2025-02-21T15:43:58.237110Z"
    }
   },
   "source": [
    "import pandas as pd\n",
    "import numpy as np"
   ],
   "outputs": [],
   "execution_count": 1
  },
  {
   "metadata": {
    "ExecuteTime": {
     "end_time": "2025-02-21T15:44:08.055601Z",
     "start_time": "2025-02-21T15:44:08.044602Z"
    }
   },
   "cell_type": "code",
   "source": [
    "data = [10, 20, 30, 40]\n",
    "series = pd.Series(data, name=\"Giá trị\")\n",
    "series"
   ],
   "id": "cd4d5c681ba1bf5d",
   "outputs": [
    {
     "data": {
      "text/plain": [
       "0    10\n",
       "1    20\n",
       "2    30\n",
       "3    40\n",
       "Name: Giá trị, dtype: int64"
      ]
     },
     "execution_count": 2,
     "metadata": {},
     "output_type": "execute_result"
    }
   ],
   "execution_count": 2
  },
  {
   "metadata": {},
   "cell_type": "markdown",
   "source": "#Bài tập 1: Tạo và làm việc với DataFrame",
   "id": "53d8606d91923ae0"
  },
  {
   "metadata": {
    "ExecuteTime": {
     "end_time": "2025-02-21T15:47:15.230852Z",
     "start_time": "2025-02-21T15:47:15.218708Z"
    }
   },
   "cell_type": "code",
   "source": [
    "data_array = np.random.rand(4,3)\n",
    "dfArray = pd.DataFrame(data_array, columns=[\"ColumnLabel1\", \"ColumnLabel2\", \"ColumnLabel3\"])\n",
    "dfArray"
   ],
   "id": "97da705bfcd5424c",
   "outputs": [
    {
     "data": {
      "text/plain": [
       "   ColumnLabel1  ColumnLabel2  ColumnLabel3\n",
       "0      0.595631      0.375960      0.239995\n",
       "1      0.359361      0.579700      0.446572\n",
       "2      0.975456      0.121864      0.723163\n",
       "3      0.187466      0.583530      0.276845"
      ],
      "text/html": [
       "<div>\n",
       "<style scoped>\n",
       "    .dataframe tbody tr th:only-of-type {\n",
       "        vertical-align: middle;\n",
       "    }\n",
       "\n",
       "    .dataframe tbody tr th {\n",
       "        vertical-align: top;\n",
       "    }\n",
       "\n",
       "    .dataframe thead th {\n",
       "        text-align: right;\n",
       "    }\n",
       "</style>\n",
       "<table border=\"1\" class=\"dataframe\">\n",
       "  <thead>\n",
       "    <tr style=\"text-align: right;\">\n",
       "      <th></th>\n",
       "      <th>ColumnLabel1</th>\n",
       "      <th>ColumnLabel2</th>\n",
       "      <th>ColumnLabel3</th>\n",
       "    </tr>\n",
       "  </thead>\n",
       "  <tbody>\n",
       "    <tr>\n",
       "      <th>0</th>\n",
       "      <td>0.595631</td>\n",
       "      <td>0.375960</td>\n",
       "      <td>0.239995</td>\n",
       "    </tr>\n",
       "    <tr>\n",
       "      <th>1</th>\n",
       "      <td>0.359361</td>\n",
       "      <td>0.579700</td>\n",
       "      <td>0.446572</td>\n",
       "    </tr>\n",
       "    <tr>\n",
       "      <th>2</th>\n",
       "      <td>0.975456</td>\n",
       "      <td>0.121864</td>\n",
       "      <td>0.723163</td>\n",
       "    </tr>\n",
       "    <tr>\n",
       "      <th>3</th>\n",
       "      <td>0.187466</td>\n",
       "      <td>0.583530</td>\n",
       "      <td>0.276845</td>\n",
       "    </tr>\n",
       "  </tbody>\n",
       "</table>\n",
       "</div>"
      ]
     },
     "execution_count": 6,
     "metadata": {},
     "output_type": "execute_result"
    }
   ],
   "execution_count": 6
  },
  {
   "metadata": {},
   "cell_type": "code",
   "outputs": [],
   "execution_count": null,
   "source": "#Bài tập 2: Đọc và ghi dữ liêệu CSV",
   "id": "23ba5b69b5f87b43"
  },
  {
   "metadata": {
    "ExecuteTime": {
     "end_time": "2025-02-21T15:52:29.557377Z",
     "start_time": "2025-02-21T15:52:29.545302Z"
    }
   },
   "cell_type": "code",
   "source": [
    "\n",
    "# Tạo dữ liệu ngẫu nhiên về iPhone và MacBook\n",
    "data = [\n",
    "    {\"Product\": \"iPhone 13\", \"Model\": \"A2633\", \"Storage\": \"128GB\", \"Color\": \"Blue\", \"Price\": 799},\n",
    "    {\"Product\": \"iPhone 14\", \"Model\": \"A2882\", \"Storage\": \"256GB\", \"Color\": \"Midnight\", \"Price\": 899},\n",
    "    {\"Product\": \"iPhone 15 Pro\", \"Model\": \"A3102\", \"Storage\": \"512GB\", \"Color\": \"Titanium\", \"Price\": 1199},\n",
    "    {\"Product\": \"MacBook Air\", \"Model\": \"M2\", \"Storage\": \"256GB\", \"Color\": \"Silver\", \"Price\": 1199},\n",
    "    {\"Product\": \"MacBook Pro\", \"Model\": \"M3\", \"Storage\": \"512GB\", \"Color\": \"Space Gray\", \"Price\": 1999},\n",
    "    {\"Product\": \"iPhone SE\", \"Model\": \"A2783\", \"Storage\": \"64GB\", \"Color\": \"Red\", \"Price\": 429},\n",
    "    {\"Product\": \"iPhone 14 Pro Max\", \"Model\": \"A2894\", \"Storage\": \"1TB\", \"Color\": \"Gold\", \"Price\": 1599},\n",
    "    {\"Product\": \"MacBook Pro\", \"Model\": \"M2 Max\", \"Storage\": \"1TB\", \"Color\": \"Silver\", \"Price\": 2499},\n",
    "    {\"Product\": \"iPhone 12\", \"Model\": \"A2403\", \"Storage\": \"128GB\", \"Color\": \"Purple\", \"Price\": 699},\n",
    "    {\"Product\": \"MacBook Air\", \"Model\": \"M1\", \"Storage\": \"256GB\", \"Color\": \"Gold\", \"Price\": 999},\n",
    "]\n",
    "\n",
    "# Chuyển dữ liệu thành DataFrame\n",
    "df = pd.DataFrame(data)\n",
    "\n",
    "# Lưu file CSV\n",
    "file_path = \"/Katalon/Python_AIML/pythonOOP/Day4_Pandas/iphone_macbook_test.csv\"\n",
    "df.to_csv(file_path, index=False)\n",
    "\n",
    "# Trả về đường dẫn file\n",
    "file_path\n"
   ],
   "id": "a08c5cdd2a43ed4a",
   "outputs": [
    {
     "data": {
      "text/plain": [
       "'/Katalon/Python_AIML/pythonOOP/Day4_Pandas/iphone_macbook_test.csv'"
      ]
     },
     "execution_count": 8,
     "metadata": {},
     "output_type": "execute_result"
    }
   ],
   "execution_count": 8
  },
  {
   "metadata": {
    "ExecuteTime": {
     "end_time": "2025-02-21T15:59:24.046927Z",
     "start_time": "2025-02-21T15:59:24.038741Z"
    }
   },
   "cell_type": "code",
   "source": [
    "#Đọc dữ liệu ừ CSV\n",
    "df = pd.read_csv(\"iphone_macbook_test.csv\")\n",
    "print( df.head(4))\n",
    "#Lưu DataFrame thành file mới\n",
    "df.to_csv(\"output1.csv\" ,index=False)\n",
    "print(\"đã lưu hoàn thành output1.csv\")"
   ],
   "id": "ce47f37250c39503",
   "outputs": [
    {
     "name": "stdout",
     "output_type": "stream",
     "text": [
      "         Product  Model Storage     Color  Price\n",
      "0      iPhone 13  A2633   128GB      Blue    799\n",
      "1      iPhone 14  A2882   256GB  Midnight    899\n",
      "2  iPhone 15 Pro  A3102   512GB  Titanium   1199\n",
      "3    MacBook Air     M2   256GB    Silver   1199\n",
      "đã lưu hoàn thành output1.csv\n"
     ]
    }
   ],
   "execution_count": 14
  },
  {
   "metadata": {
    "ExecuteTime": {
     "end_time": "2025-02-21T16:07:45.754729Z",
     "start_time": "2025-02-21T16:07:45.744811Z"
    }
   },
   "cell_type": "code",
   "source": [
    "#Bài tập 3: Lọc và xử lý dữ liệu\n",
    "data = {\n",
    "    \"Ten\" : [\"Alice\", \"John\", \"Elon\", \"Trump\"],\n",
    "    \"Income\": [3000, 5400, 9999, 444]\n",
    "}\n",
    "df = pd.DataFrame(data)\n",
    "\n",
    "#Fileter data: People has income more than 6000\n",
    "filter_df = df[df[\"Income\"] > 6000]\n",
    "print(filter_df)\n",
    "\n",
    "#Xử lý mising values: diền bằng gia trị trung bình\n",
    "df[\"Income\"].fillna(df[\"Income\"].mean(), inplace=True)\n",
    "print(\"\\nDataFrame sau khi xử lý missing values: \\n\", df)\n"
   ],
   "id": "711a833ff6d941f9",
   "outputs": [
    {
     "name": "stdout",
     "output_type": "stream",
     "text": [
      "    Ten  Income\n",
      "2  Elon    9999\n",
      "\n",
      "DataFrame sau khi xử lý missing values: \n",
      "      Ten  Income\n",
      "0  Alice    3000\n",
      "1   John    5400\n",
      "2   Elon    9999\n",
      "3  Trump     444\n"
     ]
    },
    {
     "name": "stderr",
     "output_type": "stream",
     "text": [
      "C:\\Users\\ACER\\AppData\\Local\\Temp\\ipykernel_8\\1273419782.py:13: FutureWarning: A value is trying to be set on a copy of a DataFrame or Series through chained assignment using an inplace method.\n",
      "The behavior will change in pandas 3.0. This inplace method will never work because the intermediate object on which we are setting values always behaves as a copy.\n",
      "\n",
      "For example, when doing 'df[col].method(value, inplace=True)', try using 'df.method({col: value}, inplace=True)' or df[col] = df[col].method(value) instead, to perform the operation inplace on the original object.\n",
      "\n",
      "\n",
      "  df[\"Income\"].fillna(df[\"Income\"].mean(), inplace=True)\n"
     ]
    }
   ],
   "execution_count": 21
  }
 ],
 "metadata": {
  "kernelspec": {
   "display_name": "Python 3",
   "language": "python",
   "name": "python3"
  },
  "language_info": {
   "codemirror_mode": {
    "name": "ipython",
    "version": 2
   },
   "file_extension": ".py",
   "mimetype": "text/x-python",
   "name": "python",
   "nbconvert_exporter": "python",
   "pygments_lexer": "ipython2",
   "version": "2.7.6"
  }
 },
 "nbformat": 4,
 "nbformat_minor": 5
}
